{
 "cells": [
  {
   "cell_type": "code",
   "execution_count": 5,
   "metadata": {},
   "outputs": [
    {
     "data": {
      "text/plain": [
       "['Name', 'User', 'Links']"
      ]
     },
     "execution_count": 5,
     "metadata": {},
     "output_type": "execute_result"
    }
   ],
   "source": [
    "import csv\n",
    "\n",
    "with open('data.csv') as f:\n",
    "    reader = csv.reader(f)\n",
    "    data = list(reader)\n",
    "\n",
    "data[0]"
   ]
  },
  {
   "cell_type": "code",
   "execution_count": 4,
   "metadata": {},
   "outputs": [
    {
     "data": {
      "text/plain": [
       "'User'"
      ]
     },
     "execution_count": 4,
     "metadata": {},
     "output_type": "execute_result"
    }
   ],
   "source": [
    "data[0][1]"
   ]
  },
  {
   "cell_type": "code",
   "execution_count": 12,
   "metadata": {},
   "outputs": [
    {
     "data": {
      "text/plain": [
       "[['Name', 'User', 'Links'],\n",
       " ['', '', ''],\n",
       " ['Alec Morgan',\n",
       "  'AlecMorgan',\n",
       "  'https://github.com/AlecMorgan/GitHub-Learning-Project'],\n",
       " ['Alex Shropshire', 'as6140', 'https://github.com/as6140/repotest1'],\n",
       " ['Alexander Bailey', 'ZMBailey', 'https://github.com/ZMBailey/fi_repo1'],\n",
       " ['Andy Luc', 'rokaandy', 'https://github.com/rokaandy/exercise_one'],\n",
       " ['Anna Zubova Bistrova',\n",
       "  'AnnaLara',\n",
       "  'https://github.com/AnnaLara/tuesday_practice'],\n",
       " ['Connor Anderson',\n",
       "  'ConnorAnderson29',\n",
       "  'https://github.com/ConnorAnderson29/Warmup_Repo'],\n",
       " ['David Kaspar',\n",
       "  'UpwardTrajectory',\n",
       "  'https://github.com/UpwardTrajectory/this_is_only_a_test'],\n",
       " ['Hussein Sajid', '', ''],\n",
       " ['Jacob Crabb',\n",
       "  'AlludedCrabb',\n",
       "  'https://github.com/AlludedCrabb/my-school-repo'],\n",
       " ['John Naujoks', 'jnawjux', 'https://github.com/jnawjux/tacos.git'],\n",
       " ['Kayli Schulz', 'kayschulz', 'https://github.com/kayschulz/day_2_warmup'],\n",
       " ['Kevin Velasco', 'kevintheduu', 'https://github.com/kevintheduu/day_two '],\n",
       " ['Laura Shummon Maass',\n",
       "  'Laura-ShummonMaass',\n",
       "  'https://github.com/Laura-ShummonMaass/Day2.git'],\n",
       " ['Lawrence Chew', 'worldyne', 'https://github.com/worldyne/warmup_1-2-2019'],\n",
       " ['Lee Mackey', 'glmack', 'https://github.com/glmack/flatiron-4.2.git'],\n",
       " ['Mando Iwanaga',\n",
       "  'mandoiwanaga',\n",
       "  'https://github.com/mandoiwanaga/how_to_drink_tea.git'],\n",
       " ['Mia Iseman', 'MIAISEMAN', 'https://github.com/MIAISEMAN/haikus'],\n",
       " ['Natasha Kacoroski',\n",
       "  'nkacoroski',\n",
       "  'https://github.com/nkacoroski/second_day.git'],\n",
       " ['Pat Fuller',\n",
       "  'Patrickbfuller',\n",
       "  'https://github.com/Patrickbfuller/practice_git_wk1d2'],\n",
       " ['Sherry Yang',\n",
       "  'sherzyang',\n",
       "  'https://github.com/sherzyang/new_repo/blob/master/sherrys_day.txt'],\n",
       " ['Taeho Jeon', 'Teosoft7', 'https://github.com/Teosoft7/data_mining.git'],\n",
       " ['Tara Greenwood',\n",
       "  'TSGreenwood',\n",
       "  'https://github.com/TSGreenwood/rock_paper_scissors/tree/master/.ipynb_checkpoints'],\n",
       " ['Werlindo Mangrobang',\n",
       "  'angrobanGit',\n",
       "  'https://github.com/MangrobanGit/warmup_190402']]"
      ]
     },
     "execution_count": 12,
     "metadata": {},
     "output_type": "execute_result"
    }
   ],
   "source": [
    "data"
   ]
  },
  {
   "cell_type": "code",
   "execution_count": 11,
   "metadata": {},
   "outputs": [
    {
     "name": "stdout",
     "output_type": "stream",
     "text": [
      "['AlecMorgan', 'as6140', 'ZMBailey', 'rokaandy', 'AnnaLara', 'ConnorAnderson29', 'UpwardTrajectory', 'AlludedCrabb', 'jnawjux', 'kayschulz', 'kevintheduu', 'Laura-ShummonMaass', 'worldyne', 'glmack', 'mandoiwanaga', 'MIAISEMAN', 'nkacoroski', 'Patrickbfuller', 'sherzyang', 'Teosoft7', 'TSGreenwood', 'angrobanGit']\n"
     ]
    }
   ],
   "source": [
    "github_usernames = []\n",
    "\n",
    "for user in range(len(data)):\n",
    "    if data[user][1] != '' and data[user][1] != 'User': \n",
    "        github_usernames.append(data[user][1])\n",
    "print(github_usernames)"
   ]
  },
  {
   "cell_type": "code",
   "execution_count": null,
   "metadata": {},
   "outputs": [],
   "source": []
  },
  {
   "cell_type": "code",
   "execution_count": null,
   "metadata": {},
   "outputs": [],
   "source": []
  }
 ],
 "metadata": {
  "kernelspec": {
   "display_name": "Python 3",
   "language": "python",
   "name": "python3"
  },
  "language_info": {
   "codemirror_mode": {
    "name": "ipython",
    "version": 3
   },
   "file_extension": ".py",
   "mimetype": "text/x-python",
   "name": "python",
   "nbconvert_exporter": "python",
   "pygments_lexer": "ipython3",
   "version": "3.7.1"
  }
 },
 "nbformat": 4,
 "nbformat_minor": 2
}
